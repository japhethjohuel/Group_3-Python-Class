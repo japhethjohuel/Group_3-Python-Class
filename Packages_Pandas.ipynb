{
  "nbformat": 4,
  "nbformat_minor": 0,
  "metadata": {
    "colab": {
      "provenance": [],
      "include_colab_link": true
    },
    "kernelspec": {
      "name": "python3",
      "display_name": "Python 3"
    },
    "language_info": {
      "name": "python"
    }
  },
  "cells": [
    {
      "cell_type": "markdown",
      "metadata": {
        "id": "view-in-github",
        "colab_type": "text"
      },
      "source": [
        "<a href=\"https://colab.research.google.com/github/japhethjohuel/Group_3-Python-Class/blob/main/Packages_Pandas.ipynb\" target=\"_parent\"><img src=\"https://colab.research.google.com/assets/colab-badge.svg\" alt=\"Open In Colab\"/></a>"
      ]
    },
    {
      "cell_type": "markdown",
      "source": [
        "# Package\n",
        "\n",
        "In this section, we will learn about a few important packages including\n",
        "\n",
        "1. **Pandas**\n",
        "2. Numpy\n",
        "3. Scipy\n",
        "4. Xarray"
      ],
      "metadata": {
        "id": "9cds9uDIxCra"
      }
    },
    {
      "cell_type": "markdown",
      "source": [
        "## Pandas\n",
        "\n",
        "We will learn how to use pandas to:\n",
        "1. open files\n",
        "2. perform basic statistics\n",
        "3. special functions such as dropna, isin, groupby, apply\n",
        "4. Resampling and filling missing values\n",
        "5. Simple plotting\n",
        "6. Exporting data\n"
      ],
      "metadata": {
        "id": "Xf0WLTd4xSRg"
      }
    },
    {
      "cell_type": "markdown",
      "source": [
        "Let's get our data from a Github public repository "
      ],
      "metadata": {
        "id": "KfEeHmFOyHkn"
      }
    },
    {
      "cell_type": "code",
      "execution_count": 8,
      "metadata": {
        "id": "8ASydfafwOG_",
        "colab": {
          "base_uri": "https://localhost:8080/"
        },
        "outputId": "a3bcdf78-f514-4ac8-8464-795beaaf2fd9"
      },
      "outputs": [
        {
          "output_type": "stream",
          "name": "stdout",
          "text": [
            "Cloning into 'Group_3-Python-Class'...\n",
            "remote: Enumerating objects: 3, done.\u001b[K\n",
            "remote: Counting objects: 100% (3/3), done.\u001b[K\n",
            "remote: Compressing objects: 100% (2/2), done.\u001b[K\n",
            "remote: Total 3 (delta 0), reused 0 (delta 0), pack-reused 0\u001b[K\n",
            "Unpacking objects: 100% (3/3), 788 bytes | 788.00 KiB/s, done.\n",
            "/content/CARNASRDA_python_training/Group_3-Python-Class\n",
            "monthly.csv\n"
          ]
        }
      ],
      "source": [
        "!git clone https://github.com/japhethjohuel/Group_3-Python-Class.git\n",
        "\n",
        "%cd Group_3-Python-Class\n",
        "\n",
        "!dir"
      ]
    },
    {
      "cell_type": "markdown",
      "source": [
        "Using pandas to open files such as .csv, .xlsx, .sql etc"
      ],
      "metadata": {
        "id": "RBZu44VxzLpO"
      }
    },
    {
      "cell_type": "code",
      "source": [
        "import pandas as pd\n",
        "\n",
        "xx = pd.read_csv('monthly.csv')    # csv files\n",
        "\n",
        "list(xx)  # get the list of column names\n"
      ],
      "metadata": {
        "id": "YD-nh4O5zuTP"
      },
      "execution_count": null,
      "outputs": []
    },
    {
      "cell_type": "markdown",
      "source": [
        "Using pandas to plot chart"
      ],
      "metadata": {
        "id": "kcxPPNMHYFBr"
      }
    },
    {
      "cell_type": "code",
      "source": [],
      "metadata": {
        "id": "uPXmWUDoYQp7"
      },
      "execution_count": null,
      "outputs": []
    },
    {
      "cell_type": "code",
      "source": [
        "# some simple plotting\n",
        "xx.plot()  # this plots all the column in one plot\n",
        "xx.index = pd.DatetimeIndex(xx.index)\n",
        "\n"
      ],
      "metadata": {
        "colab": {
          "base_uri": "https://localhost:8080/",
          "height": 430
        },
        "outputId": "044fa823-8d90-4b28-82f4-67756b1a93b7",
        "id": "GjC79zwBYmO2"
      },
      "execution_count": 19,
      "outputs": [
        {
          "output_type": "display_data",
          "data": {
            "text/plain": [
              "<Figure size 640x480 with 1 Axes>"
            ],
            "image/png": "[encoded data removed]"
          },
          "metadata": {}
        }
      ]
    },
    {
      "cell_type": "markdown",
      "source": [],
      "metadata": {
        "id": "H8pZLJpYX9b8"
      }
    },
    {
      "cell_type": "code",
      "source": [
        "# lastly, after manipulation, we can export our dataframe to other formats including excel\n",
        "\n",
        "xx.to_numpy()"
      ],
      "metadata": {
        "id": "5-sISiohEsuQ",
        "colab": {
          "base_uri": "https://localhost:8080/"
        },
        "outputId": "c33e3eab-5bb2-46a4-81b8-f7af6e4f56db"
      },
      "execution_count": 20,
      "outputs": [
        {
          "output_type": "execute_result",
          "data": {
            "text/plain": [
              "array([['Jan', 24.97, 3.65],\n",
              "       ['Feb', 27.51, 8.14],\n",
              "       ['Mar', 29.91, 29.84],\n",
              "       ['Apr', 30.58, 66.22],\n",
              "       ['May', 29.43, 124.48],\n",
              "       ['Jun', 27.88, 164.92],\n",
              "       ['Jul', 26.38, 208.38],\n",
              "       ['Aug', 25.71, 234.94],\n",
              "       ['Sep', 26.38, 216.65],\n",
              "       ['Oct', 27.25, 110.06],\n",
              "       ['Nov', 26.61, 15.52],\n",
              "       ['Dec', 25.13, 3.95]], dtype=object)"
            ]
          },
          "metadata": {},
          "execution_count": 20
        }
      ]
    }
  ]
}